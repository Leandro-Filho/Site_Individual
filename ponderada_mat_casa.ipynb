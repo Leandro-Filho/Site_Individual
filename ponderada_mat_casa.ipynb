{
  "nbformat": 4,
  "nbformat_minor": 0,
  "metadata": {
    "colab": {
      "provenance": [],
      "authorship_tag": "ABX9TyP8cUPKkucNBLusRLleZzyp",
      "include_colab_link": true
    },
    "kernelspec": {
      "name": "python3",
      "display_name": "Python 3"
    },
    "language_info": {
      "name": "python"
    }
  },
  "cells": [
    {
      "cell_type": "markdown",
      "metadata": {
        "id": "view-in-github",
        "colab_type": "text"
      },
      "source": [
        "<a href=\"https://colab.research.google.com/github/Leandro-Filho/Site_Individual/blob/main/ponderada_mat_casa.ipynb\" target=\"_parent\"><img src=\"https://colab.research.google.com/assets/colab-badge.svg\" alt=\"Open In Colab\"/></a>"
      ]
    },
    {
      "cell_type": "code",
      "execution_count": 39,
      "metadata": {
        "id": "04iMxmcnqn7B"
      },
      "outputs": [],
      "source": [
        "import pandas as pd\n",
        "import matplotlib.pyplot as plt\n",
        "import numpy as np\n",
        "from scipy.stats import norm"
      ]
    },
    {
      "cell_type": "code",
      "source": [
        "df = pd.read_csv('data.csv')\n",
        "df"
      ],
      "metadata": {
        "id": "nW-PhxvErZF5",
        "outputId": "b4933ad3-3f5f-44a8-fb47-2c1ab9da5686",
        "colab": {
          "base_uri": "https://localhost:8080/",
          "height": 424
        }
      },
      "execution_count": 8,
      "outputs": [
        {
          "output_type": "execute_result",
          "data": {
            "text/plain": [
              "    DIA\\n(DAY)  PREVISÃO DE VENDAS\\n(SALES FORECAST)  \\\n",
              "0            1                                   125   \n",
              "1            2                                   132   \n",
              "2            3                                   128   \n",
              "3            4                                   137   \n",
              "4            5                                   142   \n",
              "..         ...                                   ...   \n",
              "95          96                                   134   \n",
              "96          97                                   137   \n",
              "97          98                                   138   \n",
              "98          99                                   135   \n",
              "99         100                                   136   \n",
              "\n",
              "    VENDAS REAIS\\n(REAL SALES)  \n",
              "0                          122  \n",
              "1                          130  \n",
              "2                          127  \n",
              "3                          135  \n",
              "4                          140  \n",
              "..                         ...  \n",
              "95                         136  \n",
              "96                         138  \n",
              "97                         139  \n",
              "98                         137  \n",
              "99                         135  \n",
              "\n",
              "[100 rows x 3 columns]"
            ],
            "text/html": [
              "\n",
              "  <div id=\"df-5e204f7e-bed1-4e7a-8e40-d255c5817636\" class=\"colab-df-container\">\n",
              "    <div>\n",
              "<style scoped>\n",
              "    .dataframe tbody tr th:only-of-type {\n",
              "        vertical-align: middle;\n",
              "    }\n",
              "\n",
              "    .dataframe tbody tr th {\n",
              "        vertical-align: top;\n",
              "    }\n",
              "\n",
              "    .dataframe thead th {\n",
              "        text-align: right;\n",
              "    }\n",
              "</style>\n",
              "<table border=\"1\" class=\"dataframe\">\n",
              "  <thead>\n",
              "    <tr style=\"text-align: right;\">\n",
              "      <th></th>\n",
              "      <th>DIA\\n(DAY)</th>\n",
              "      <th>PREVISÃO DE VENDAS\\n(SALES FORECAST)</th>\n",
              "      <th>VENDAS REAIS\\n(REAL SALES)</th>\n",
              "    </tr>\n",
              "  </thead>\n",
              "  <tbody>\n",
              "    <tr>\n",
              "      <th>0</th>\n",
              "      <td>1</td>\n",
              "      <td>125</td>\n",
              "      <td>122</td>\n",
              "    </tr>\n",
              "    <tr>\n",
              "      <th>1</th>\n",
              "      <td>2</td>\n",
              "      <td>132</td>\n",
              "      <td>130</td>\n",
              "    </tr>\n",
              "    <tr>\n",
              "      <th>2</th>\n",
              "      <td>3</td>\n",
              "      <td>128</td>\n",
              "      <td>127</td>\n",
              "    </tr>\n",
              "    <tr>\n",
              "      <th>3</th>\n",
              "      <td>4</td>\n",
              "      <td>137</td>\n",
              "      <td>135</td>\n",
              "    </tr>\n",
              "    <tr>\n",
              "      <th>4</th>\n",
              "      <td>5</td>\n",
              "      <td>142</td>\n",
              "      <td>140</td>\n",
              "    </tr>\n",
              "    <tr>\n",
              "      <th>...</th>\n",
              "      <td>...</td>\n",
              "      <td>...</td>\n",
              "      <td>...</td>\n",
              "    </tr>\n",
              "    <tr>\n",
              "      <th>95</th>\n",
              "      <td>96</td>\n",
              "      <td>134</td>\n",
              "      <td>136</td>\n",
              "    </tr>\n",
              "    <tr>\n",
              "      <th>96</th>\n",
              "      <td>97</td>\n",
              "      <td>137</td>\n",
              "      <td>138</td>\n",
              "    </tr>\n",
              "    <tr>\n",
              "      <th>97</th>\n",
              "      <td>98</td>\n",
              "      <td>138</td>\n",
              "      <td>139</td>\n",
              "    </tr>\n",
              "    <tr>\n",
              "      <th>98</th>\n",
              "      <td>99</td>\n",
              "      <td>135</td>\n",
              "      <td>137</td>\n",
              "    </tr>\n",
              "    <tr>\n",
              "      <th>99</th>\n",
              "      <td>100</td>\n",
              "      <td>136</td>\n",
              "      <td>135</td>\n",
              "    </tr>\n",
              "  </tbody>\n",
              "</table>\n",
              "<p>100 rows × 3 columns</p>\n",
              "</div>\n",
              "    <div class=\"colab-df-buttons\">\n",
              "\n",
              "  <div class=\"colab-df-container\">\n",
              "    <button class=\"colab-df-convert\" onclick=\"convertToInteractive('df-5e204f7e-bed1-4e7a-8e40-d255c5817636')\"\n",
              "            title=\"Convert this dataframe to an interactive table.\"\n",
              "            style=\"display:none;\">\n",
              "\n",
              "  <svg xmlns=\"http://www.w3.org/2000/svg\" height=\"24px\" viewBox=\"0 -960 960 960\">\n",
              "    <path d=\"M120-120v-720h720v720H120Zm60-500h600v-160H180v160Zm220 220h160v-160H400v160Zm0 220h160v-160H400v160ZM180-400h160v-160H180v160Zm440 0h160v-160H620v160ZM180-180h160v-160H180v160Zm440 0h160v-160H620v160Z\"/>\n",
              "  </svg>\n",
              "    </button>\n",
              "\n",
              "  <style>\n",
              "    .colab-df-container {\n",
              "      display:flex;\n",
              "      gap: 12px;\n",
              "    }\n",
              "\n",
              "    .colab-df-convert {\n",
              "      background-color: #E8F0FE;\n",
              "      border: none;\n",
              "      border-radius: 50%;\n",
              "      cursor: pointer;\n",
              "      display: none;\n",
              "      fill: #1967D2;\n",
              "      height: 32px;\n",
              "      padding: 0 0 0 0;\n",
              "      width: 32px;\n",
              "    }\n",
              "\n",
              "    .colab-df-convert:hover {\n",
              "      background-color: #E2EBFA;\n",
              "      box-shadow: 0px 1px 2px rgba(60, 64, 67, 0.3), 0px 1px 3px 1px rgba(60, 64, 67, 0.15);\n",
              "      fill: #174EA6;\n",
              "    }\n",
              "\n",
              "    .colab-df-buttons div {\n",
              "      margin-bottom: 4px;\n",
              "    }\n",
              "\n",
              "    [theme=dark] .colab-df-convert {\n",
              "      background-color: #3B4455;\n",
              "      fill: #D2E3FC;\n",
              "    }\n",
              "\n",
              "    [theme=dark] .colab-df-convert:hover {\n",
              "      background-color: #434B5C;\n",
              "      box-shadow: 0px 1px 3px 1px rgba(0, 0, 0, 0.15);\n",
              "      filter: drop-shadow(0px 1px 2px rgba(0, 0, 0, 0.3));\n",
              "      fill: #FFFFFF;\n",
              "    }\n",
              "  </style>\n",
              "\n",
              "    <script>\n",
              "      const buttonEl =\n",
              "        document.querySelector('#df-5e204f7e-bed1-4e7a-8e40-d255c5817636 button.colab-df-convert');\n",
              "      buttonEl.style.display =\n",
              "        google.colab.kernel.accessAllowed ? 'block' : 'none';\n",
              "\n",
              "      async function convertToInteractive(key) {\n",
              "        const element = document.querySelector('#df-5e204f7e-bed1-4e7a-8e40-d255c5817636');\n",
              "        const dataTable =\n",
              "          await google.colab.kernel.invokeFunction('convertToInteractive',\n",
              "                                                    [key], {});\n",
              "        if (!dataTable) return;\n",
              "\n",
              "        const docLinkHtml = 'Like what you see? Visit the ' +\n",
              "          '<a target=\"_blank\" href=https://colab.research.google.com/notebooks/data_table.ipynb>data table notebook</a>'\n",
              "          + ' to learn more about interactive tables.';\n",
              "        element.innerHTML = '';\n",
              "        dataTable['output_type'] = 'display_data';\n",
              "        await google.colab.output.renderOutput(dataTable, element);\n",
              "        const docLink = document.createElement('div');\n",
              "        docLink.innerHTML = docLinkHtml;\n",
              "        element.appendChild(docLink);\n",
              "      }\n",
              "    </script>\n",
              "  </div>\n",
              "\n",
              "\n",
              "    <div id=\"df-0c2fee24-2d04-4ea5-b31b-e11321617038\">\n",
              "      <button class=\"colab-df-quickchart\" onclick=\"quickchart('df-0c2fee24-2d04-4ea5-b31b-e11321617038')\"\n",
              "                title=\"Suggest charts\"\n",
              "                style=\"display:none;\">\n",
              "\n",
              "<svg xmlns=\"http://www.w3.org/2000/svg\" height=\"24px\"viewBox=\"0 0 24 24\"\n",
              "     width=\"24px\">\n",
              "    <g>\n",
              "        <path d=\"M19 3H5c-1.1 0-2 .9-2 2v14c0 1.1.9 2 2 2h14c1.1 0 2-.9 2-2V5c0-1.1-.9-2-2-2zM9 17H7v-7h2v7zm4 0h-2V7h2v10zm4 0h-2v-4h2v4z\"/>\n",
              "    </g>\n",
              "</svg>\n",
              "      </button>\n",
              "\n",
              "<style>\n",
              "  .colab-df-quickchart {\n",
              "      --bg-color: #E8F0FE;\n",
              "      --fill-color: #1967D2;\n",
              "      --hover-bg-color: #E2EBFA;\n",
              "      --hover-fill-color: #174EA6;\n",
              "      --disabled-fill-color: #AAA;\n",
              "      --disabled-bg-color: #DDD;\n",
              "  }\n",
              "\n",
              "  [theme=dark] .colab-df-quickchart {\n",
              "      --bg-color: #3B4455;\n",
              "      --fill-color: #D2E3FC;\n",
              "      --hover-bg-color: #434B5C;\n",
              "      --hover-fill-color: #FFFFFF;\n",
              "      --disabled-bg-color: #3B4455;\n",
              "      --disabled-fill-color: #666;\n",
              "  }\n",
              "\n",
              "  .colab-df-quickchart {\n",
              "    background-color: var(--bg-color);\n",
              "    border: none;\n",
              "    border-radius: 50%;\n",
              "    cursor: pointer;\n",
              "    display: none;\n",
              "    fill: var(--fill-color);\n",
              "    height: 32px;\n",
              "    padding: 0;\n",
              "    width: 32px;\n",
              "  }\n",
              "\n",
              "  .colab-df-quickchart:hover {\n",
              "    background-color: var(--hover-bg-color);\n",
              "    box-shadow: 0 1px 2px rgba(60, 64, 67, 0.3), 0 1px 3px 1px rgba(60, 64, 67, 0.15);\n",
              "    fill: var(--button-hover-fill-color);\n",
              "  }\n",
              "\n",
              "  .colab-df-quickchart-complete:disabled,\n",
              "  .colab-df-quickchart-complete:disabled:hover {\n",
              "    background-color: var(--disabled-bg-color);\n",
              "    fill: var(--disabled-fill-color);\n",
              "    box-shadow: none;\n",
              "  }\n",
              "\n",
              "  .colab-df-spinner {\n",
              "    border: 2px solid var(--fill-color);\n",
              "    border-color: transparent;\n",
              "    border-bottom-color: var(--fill-color);\n",
              "    animation:\n",
              "      spin 1s steps(1) infinite;\n",
              "  }\n",
              "\n",
              "  @keyframes spin {\n",
              "    0% {\n",
              "      border-color: transparent;\n",
              "      border-bottom-color: var(--fill-color);\n",
              "      border-left-color: var(--fill-color);\n",
              "    }\n",
              "    20% {\n",
              "      border-color: transparent;\n",
              "      border-left-color: var(--fill-color);\n",
              "      border-top-color: var(--fill-color);\n",
              "    }\n",
              "    30% {\n",
              "      border-color: transparent;\n",
              "      border-left-color: var(--fill-color);\n",
              "      border-top-color: var(--fill-color);\n",
              "      border-right-color: var(--fill-color);\n",
              "    }\n",
              "    40% {\n",
              "      border-color: transparent;\n",
              "      border-right-color: var(--fill-color);\n",
              "      border-top-color: var(--fill-color);\n",
              "    }\n",
              "    60% {\n",
              "      border-color: transparent;\n",
              "      border-right-color: var(--fill-color);\n",
              "    }\n",
              "    80% {\n",
              "      border-color: transparent;\n",
              "      border-right-color: var(--fill-color);\n",
              "      border-bottom-color: var(--fill-color);\n",
              "    }\n",
              "    90% {\n",
              "      border-color: transparent;\n",
              "      border-bottom-color: var(--fill-color);\n",
              "    }\n",
              "  }\n",
              "</style>\n",
              "\n",
              "      <script>\n",
              "        async function quickchart(key) {\n",
              "          const quickchartButtonEl =\n",
              "            document.querySelector('#' + key + ' button');\n",
              "          quickchartButtonEl.disabled = true;  // To prevent multiple clicks.\n",
              "          quickchartButtonEl.classList.add('colab-df-spinner');\n",
              "          try {\n",
              "            const charts = await google.colab.kernel.invokeFunction(\n",
              "                'suggestCharts', [key], {});\n",
              "          } catch (error) {\n",
              "            console.error('Error during call to suggestCharts:', error);\n",
              "          }\n",
              "          quickchartButtonEl.classList.remove('colab-df-spinner');\n",
              "          quickchartButtonEl.classList.add('colab-df-quickchart-complete');\n",
              "        }\n",
              "        (() => {\n",
              "          let quickchartButtonEl =\n",
              "            document.querySelector('#df-0c2fee24-2d04-4ea5-b31b-e11321617038 button');\n",
              "          quickchartButtonEl.style.display =\n",
              "            google.colab.kernel.accessAllowed ? 'block' : 'none';\n",
              "        })();\n",
              "      </script>\n",
              "    </div>\n",
              "\n",
              "  <div id=\"id_0961df27-4a55-45c7-9c94-87e13e765ad4\">\n",
              "    <style>\n",
              "      .colab-df-generate {\n",
              "        background-color: #E8F0FE;\n",
              "        border: none;\n",
              "        border-radius: 50%;\n",
              "        cursor: pointer;\n",
              "        display: none;\n",
              "        fill: #1967D2;\n",
              "        height: 32px;\n",
              "        padding: 0 0 0 0;\n",
              "        width: 32px;\n",
              "      }\n",
              "\n",
              "      .colab-df-generate:hover {\n",
              "        background-color: #E2EBFA;\n",
              "        box-shadow: 0px 1px 2px rgba(60, 64, 67, 0.3), 0px 1px 3px 1px rgba(60, 64, 67, 0.15);\n",
              "        fill: #174EA6;\n",
              "      }\n",
              "\n",
              "      [theme=dark] .colab-df-generate {\n",
              "        background-color: #3B4455;\n",
              "        fill: #D2E3FC;\n",
              "      }\n",
              "\n",
              "      [theme=dark] .colab-df-generate:hover {\n",
              "        background-color: #434B5C;\n",
              "        box-shadow: 0px 1px 3px 1px rgba(0, 0, 0, 0.15);\n",
              "        filter: drop-shadow(0px 1px 2px rgba(0, 0, 0, 0.3));\n",
              "        fill: #FFFFFF;\n",
              "      }\n",
              "    </style>\n",
              "    <button class=\"colab-df-generate\" onclick=\"generateWithVariable('df')\"\n",
              "            title=\"Generate code using this dataframe.\"\n",
              "            style=\"display:none;\">\n",
              "\n",
              "  <svg xmlns=\"http://www.w3.org/2000/svg\" height=\"24px\"viewBox=\"0 0 24 24\"\n",
              "       width=\"24px\">\n",
              "    <path d=\"M7,19H8.4L18.45,9,17,7.55,7,17.6ZM5,21V16.75L18.45,3.32a2,2,0,0,1,2.83,0l1.4,1.43a1.91,1.91,0,0,1,.58,1.4,1.91,1.91,0,0,1-.58,1.4L9.25,21ZM18.45,9,17,7.55Zm-12,3A5.31,5.31,0,0,0,4.9,8.1,5.31,5.31,0,0,0,1,6.5,5.31,5.31,0,0,0,4.9,4.9,5.31,5.31,0,0,0,6.5,1,5.31,5.31,0,0,0,8.1,4.9,5.31,5.31,0,0,0,12,6.5,5.46,5.46,0,0,0,6.5,12Z\"/>\n",
              "  </svg>\n",
              "    </button>\n",
              "    <script>\n",
              "      (() => {\n",
              "      const buttonEl =\n",
              "        document.querySelector('#id_0961df27-4a55-45c7-9c94-87e13e765ad4 button.colab-df-generate');\n",
              "      buttonEl.style.display =\n",
              "        google.colab.kernel.accessAllowed ? 'block' : 'none';\n",
              "\n",
              "      buttonEl.onclick = () => {\n",
              "        google.colab.notebook.generateWithVariable('df');\n",
              "      }\n",
              "      })();\n",
              "    </script>\n",
              "  </div>\n",
              "\n",
              "    </div>\n",
              "  </div>\n"
            ],
            "application/vnd.google.colaboratory.intrinsic+json": {
              "type": "dataframe",
              "variable_name": "df",
              "summary": "{\n  \"name\": \"df\",\n  \"rows\": 100,\n  \"fields\": [\n    {\n      \"column\": \"DIA\\n(DAY)\",\n      \"properties\": {\n        \"dtype\": \"number\",\n        \"std\": 29,\n        \"min\": 1,\n        \"max\": 100,\n        \"num_unique_values\": 100,\n        \"samples\": [\n          84,\n          54,\n          71\n        ],\n        \"semantic_type\": \"\",\n        \"description\": \"\"\n      }\n    },\n    {\n      \"column\": \"PREVIS\\u00c3O DE VENDAS\\n(SALES FORECAST)\",\n      \"properties\": {\n        \"dtype\": \"number\",\n        \"std\": 4,\n        \"min\": 125,\n        \"max\": 146,\n        \"num_unique_values\": 21,\n        \"samples\": [\n          125,\n          129,\n          136\n        ],\n        \"semantic_type\": \"\",\n        \"description\": \"\"\n      }\n    },\n    {\n      \"column\": \"VENDAS REAIS\\n(REAL SALES)\",\n      \"properties\": {\n        \"dtype\": \"number\",\n        \"std\": 4,\n        \"min\": 122,\n        \"max\": 144,\n        \"num_unique_values\": 19,\n        \"samples\": [\n          122,\n          138,\n          131\n        ],\n        \"semantic_type\": \"\",\n        \"description\": \"\"\n      }\n    }\n  ]\n}"
            }
          },
          "metadata": {},
          "execution_count": 8
        }
      ]
    },
    {
      "cell_type": "markdown",
      "source": [
        "###ITEM 1"
      ],
      "metadata": {
        "id": "g_BnUKOGsdoC"
      }
    },
    {
      "cell_type": "markdown",
      "source": [
        "a) Calcule a média e o desvio-padrão populacional para as variáveis:\n",
        "VENDAS REAIS e PREVISÃO DE VENDAS. Considere uma casa\n",
        "decimal para as respostas."
      ],
      "metadata": {
        "id": "WZ9RtWwjsWDQ"
      }
    },
    {
      "cell_type": "code",
      "source": [
        "media_previsao = round(df['PREVISÃO DE VENDAS\\n(SALES FORECAST)'].mean(), 1)\n",
        "dp_previsao = round(df['PREVISÃO DE VENDAS\\n(SALES FORECAST)'].std(), 1)\n",
        "print('a media da previsão de vendas é', media_previsao, 'e o desvio padrão é', dp_previsao)"
      ],
      "metadata": {
        "colab": {
          "base_uri": "https://localhost:8080/"
        },
        "id": "p7Mn73OUsVFW",
        "outputId": "72258626-aa76-4388-dd72-f77596f4583b"
      },
      "execution_count": 25,
      "outputs": [
        {
          "output_type": "stream",
          "name": "stdout",
          "text": [
            "a media da previsão de vendas é 134.8 e o desvio padrão é 4.1\n"
          ]
        }
      ]
    },
    {
      "cell_type": "code",
      "source": [
        "media_vendas = round(df['VENDAS REAIS\\n(REAL SALES)'].mean(), 1)\n",
        "\n",
        "dp_vendas = round(df['VENDAS REAIS\\n(REAL SALES)'].std(), 1)\n",
        "\n",
        "print('a media das vendas é', media_vendas, 'e o desvio padrão é', dp_vendas)"
      ],
      "metadata": {
        "colab": {
          "base_uri": "https://localhost:8080/"
        },
        "id": "QU37tLrxuccs",
        "outputId": "5fcf4284-17fd-44d5-c8f5-ae5e48d18f6c"
      },
      "execution_count": 24,
      "outputs": [
        {
          "output_type": "stream",
          "name": "stdout",
          "text": [
            "a media das vendas é 135.3 e o desvio padrão é 4.2\n"
          ]
        }
      ]
    },
    {
      "cell_type": "markdown",
      "source": [
        "b) Apresente o histograma para a variável VENDAS REAIS. O histograma\n",
        "deve ser com 10 bins no intervalo dos dados. Utilize o resultado do item\n",
        "(a) para inserir junto do histograma uma curva gaussiana com média e\n",
        "desvio-padrão obtido no item (a)."
      ],
      "metadata": {
        "id": "puKFPdHFwJiS"
      }
    },
    {
      "cell_type": "code",
      "source": [
        "histograma_vendas = df['VENDAS REAIS\\n(REAL SALES)']\n",
        "x = np.linspace(histograma_vendas.min(), histograma_vendas.max(), 200)\n",
        "y = norm.pdf(x, media_vendas , dp_vendas)\n",
        "plt.plot(x, y, 'r-')\n",
        "plt.hist(histograma_vendas, bins=10, density=True)"
      ],
      "metadata": {
        "colab": {
          "base_uri": "https://localhost:8080/",
          "height": 520
        },
        "id": "U0lhU-0I4Wn7",
        "outputId": "f47870fa-e971-4070-a6c6-7033fbda5bff"
      },
      "execution_count": 47,
      "outputs": [
        {
          "output_type": "execute_result",
          "data": {
            "text/plain": [
              "(array([0.00454545, 0.00454545, 0.01818182, 0.04090909, 0.05454545,\n",
              "        0.08181818, 0.1       , 0.07727273, 0.05      , 0.02272727]),\n",
              " array([122. , 124.2, 126.4, 128.6, 130.8, 133. , 135.2, 137.4, 139.6,\n",
              "        141.8, 144. ]),\n",
              " <BarContainer object of 10 artists>)"
            ]
          },
          "metadata": {},
          "execution_count": 47
        },
        {
          "output_type": "display_data",
          "data": {
            "text/plain": [
              "<Figure size 640x480 with 1 Axes>"
            ],
            "image/png": "[encoded data removed]"
          },
          "metadata": {}
        }
      ]
    },
    {
      "cell_type": "markdown",
      "source": [
        "c) Com base na média e desvio-padrão da variável PREVISÃO DE\n",
        "VENDAS, calcule a probabilidade de que o modelo preveja valores de\n",
        "vendas inferior a 130."
      ],
      "metadata": {
        "id": "eJ7wfvWX6R5c"
      }
    },
    {
      "cell_type": "code",
      "source": [
        "probabilidade_vendas = norm.cdf(130, loc=media_previsao, scale=dp_previsao)\n",
        "probabilidade_vendas_final = probabilidade_vendas * 100\n",
        "print('a probabilidade do modelo prever valores abaixo de 130 é', probabilidade_vendas_final,'%')"
      ],
      "metadata": {
        "colab": {
          "base_uri": "https://localhost:8080/"
        },
        "id": "UqXkvIgT_szz",
        "outputId": "cecb9684-a678-43fe-b0a0-3119dc040639"
      },
      "execution_count": 57,
      "outputs": [
        {
          "output_type": "stream",
          "name": "stdout",
          "text": [
            "a probabilidade do modelo prever valores abaixo de 130 é 12.085331801602738 %\n"
          ]
        }
      ]
    },
    {
      "cell_type": "markdown",
      "source": [
        "### ITEM 2"
      ],
      "metadata": {
        "id": "7FcJbguADQ9i"
      }
    },
    {
      "cell_type": "markdown",
      "source": [
        "A empresa deseja validar se o modelo preditivo atual fornece estimativas\n",
        "precisas. Para isso, deve-se realizar um teste de hipótese para validar se a\n",
        "média da previsão de vendas é significativamente diferente da média real de\n",
        "vendas observadas no conjunto de dados ao nível de 5% de significância. Neste\n",
        "item, considere que os dados de VENDAS REAIS são os dados populacionais\n",
        "conhecidos, ou seja, deve-se usá-lo como referência para a média populacional\n",
        "e desvio-padrão populacional."
      ],
      "metadata": {
        "id": "ZfVxtjAvDUjX"
      }
    },
    {
      "cell_type": "markdown",
      "source": [
        "a) Enuncie, de forma matemática e literal, a hipótese nula (H0) e a hipótese\n",
        "alternativa (Ha)."
      ],
      "metadata": {
        "id": "mQ90d6vJDZCA"
      }
    },
    {
      "cell_type": "markdown",
      "source": [
        "I. Queremos provar que a média das previsões (chamar de mp) NÃO é significantemente diferente da média de vendas (chamar de mv). Então:\n",
        "    \n",
        "    Ho : mp = mv\n",
        "\n",
        "Com o H nulo definido, precisamos colocar em análise o H alternativo que será:\n",
        "\n",
        "    Ha : mp diferente de mv |ou| mp != mv"
      ],
      "metadata": {
        "id": "iYjkD70eGb34"
      }
    },
    {
      "cell_type": "markdown",
      "source": [
        "b) Defina o valor crítico com a tabela apropriada considerando o nível de\n",
        "significância do teste."
      ],
      "metadata": {
        "id": "PGmAjfkLIEvC"
      }
    },
    {
      "cell_type": "markdown",
      "source": [
        "Segundo o texto entregue para nós, lá é indica que o nível de significancia é 5%.\n",
        "Olhando a tabela Z (usada porque temos mais de 30 amostras) , o valor está em 1.96, tanto positivo quando negativo, já que o gráfico é bicaudal."
      ],
      "metadata": {
        "id": "StkZq9-5IGbL"
      }
    },
    {
      "cell_type": "markdown",
      "source": [
        "c) Calcule o valor do teste."
      ],
      "metadata": {
        "id": "_C6p9QSyLiIY"
      }
    },
    {
      "cell_type": "markdown",
      "source": [
        "I. Vamos pegar os valores que temos:\n",
        "* mp = 134.8\n",
        "* mv = 135.3\n",
        "* Zcrit = 1.96 +-\n",
        "* desvio padrão vendas = dpv = 4.2\n",
        "* n = 100\n",
        "\n",
        "II. Agora com os dados análisados, devemos calcular o Zcalc:\n",
        "a fórmula que usaremos é: Zcalc = (mv - mp) / (dpv / raiz quadrada de n).\n",
        "Substituindo valores, o a fórmula fica:\n",
        "\n",
        "  Zcalc = (135.3 - 134.8) / (4.2 / raiz quadrada de 100)\n",
        "\n",
        "Fazendo as contas, o resultado de Zcalc é -1,2163\n",
        "\n",
        "III. Como o Zcalc está entre os intervalos de Zcrit {-1.96, 196}.\n",
        "\n",
        "Logo, o H0 está correto."
      ],
      "metadata": {
        "id": "ZmVHjr_PLot7"
      }
    }
  ]
}